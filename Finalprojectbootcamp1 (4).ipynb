{
  "nbformat": 4,
  "nbformat_minor": 0,
  "metadata": {
    "colab": {
      "provenance": []
    },
    "kernelspec": {
      "name": "python3",
      "display_name": "Python 3"
    },
    "language_info": {
      "name": "python"
    }
  },
  "cells": [
    {
      "cell_type": "code",
      "source": [
        "import time\n",
        "\n",
        "player_name = \"Abhi\"\n",
        "weapon = \"pistol\"\n",
        "has = \"flashlight\"\n",
        "health = 100\n",
        "ammo = 110\n",
        "door = \"right\"\n",
        "hit = 10\n",
        "shot = 10\n",
        "\n",
        "\n",
        "name = input(\"Welcome to the Area 51 labratory, what is your name?:\")\n",
        "print( \"Hello \"+name+ \", You wake up in a room with a \" + weapon + \",\" + has + \", and \" + str(health) + \" hp \" + \".\")\n",
        "choice = input(\"Would you like to find the alien or find a way out?:\")\n",
        "if choice == 'find a way out':\n",
        "  print('Go to the nearest door,')\n",
        "  print(\"There are 2 doors, The left door has spikes with  zombies roaming around.\")\n",
        "  print(\"The right door has tiny beetles that are deadly if they bite you.\")\n",
        "  option = input(\"Choose the door that you want to go through:\")\n",
        "if option == 'right':\n",
        "    inventory = [\"Hammer, pistol, and flashlight\"]\n",
        "    current_time = time.strftime(\"%H:%M:%S:PM\")\n",
        "    print(\"You go through the door with all the beetle, and you killed all of them by stepping on them\")\n",
        "    def favdoor(door):\n",
        "      return \"The best door to go through is\" + door\n",
        "      print(favdoor(\"left\"))\n",
        "    print(\"You walk out of the door and see this door with wooden planks screwed on to the door.\")\n",
        "    print(\" You want to get out of the place before it becomes midnight, you look around with your  \" + has + \" and look for a clock\")\n",
        "    print(\" After looking for a while you see a clock that is still working, you read the time and it says\")\n",
        "    print(current_time)\n",
        "    print( name + \" Look in the cabinets and find a hammer so you can break the wooden planks.\")\n",
        "    print(\" You look through the second drawer in one of the security guards and you finally find the hammer.\")\n",
        "if option == 'left':\n",
        "    x= ammo - shot\n",
        "    y= health - hit\n",
        "    inventory = [\"Hammer, pistol, and flashlight\"]\n",
        "    current_time = time.strftime(\"%H:%M:%S:PM\")\n",
        "    print(\"You get damaged by the zombies, you used \" + str(shot) + \" bullets\" + \" and now you have \" + str(x) + \", and you have \" + str(y) + \"hp .\" )\n",
        "    print(\"You walk out of the door and see this door with wooden planks screwed on to the door.\")\n",
        "    print(\" You want to get out of the place before it is the next day, you look around with your  \" + has + \" and look for a clock\")\n",
        "    print(\" After looking for a while you see a clock that is still working, you read the time and it says\")\n",
        "    print(current_time)\n",
        "    print( name + \" Look in the cabinets and find a hammer so you can break the wooden planks.\")\n",
        "    print(\" You look through the second drawer in one of the security guards and you finally find the hammer.\")\n",
        "for i in inventory:\n",
        "    print(\"Now you have \" + i )\n",
        "    print(\"YOu break the wooden planks of the door and open it, you finally get out of the Area 51 labratory.\")\n",
        "    print(\" GAME OVER\")\n",
        "if choice == 'alien':\n",
        "  print(' find the alien')\n",
        "  print(\" You notice one of the security guards standing by a door.\")\n",
        "  guard = input(\"Do you want to go up to the guard?:\")\n",
        "\n"
      ],
      "metadata": {
        "colab": {
          "base_uri": "https://localhost:8080/"
        },
        "id": "2sWhfdjTDxrf",
        "outputId": "3e4a0986-f2c3-4a39-aa4c-e818fec0a07d"
      },
      "execution_count": 6,
      "outputs": [
        {
          "output_type": "stream",
          "name": "stdout",
          "text": [
            "Welcome to the Area 51 labratory, what is your name?:a\n",
            "Hello a, You wake up in a room with a pistol,flashlight, and 100 hp .\n",
            "Would you like to find the alien or find a way out?:find a way out\n",
            "Go to the nearest door,\n",
            "There are 2 doors, The left door has spikes with  zombies roaming around.\n",
            "The right door has tiny beetles that are deadly if they bite you.\n",
            "Choose the door that you want to go through:left\n",
            "You get damaged by the zombies, you used 10 bullets and now you have 100, and you have 90hp .\n",
            "You walk out of the door and see this door with wooden planks screwed on to the door.\n",
            " You want to get out of the place before it is the next day, you look around with your  flashlight and look for a clock\n",
            " After looking for a while you see a clock that is still working, you read the time and it says\n",
            "03:27:40:PM\n",
            "a Look in the cabinets and find a hammer so you can break the wooden planks.\n",
            " You look through the second drawer in one of the security guards and you finally find the hammer.\n",
            "Now you have Hammer, pistol, and flashlight\n",
            "YOu break the wooden planks of the door and open it, you finally get out of the Area 51 labratory.\n",
            " GAME OVER\n"
          ]
        }
      ]
    },
    {
      "cell_type": "code",
      "source": [],
      "metadata": {
        "id": "pr_USQaFXbRP"
      },
      "execution_count": null,
      "outputs": []
    }
  ]
}